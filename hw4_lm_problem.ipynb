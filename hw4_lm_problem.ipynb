{
  "nbformat": 4,
  "nbformat_minor": 0,
  "metadata": {
    "colab": {
      "name": "hw4_lm_problem",
      "provenance": [],
      "authorship_tag": "ABX9TyMfwQpuRpIL8qMw8jz6c04e",
      "include_colab_link": true
    },
    "kernelspec": {
      "name": "python3",
      "display_name": "Python 3"
    },
    "language_info": {
      "name": "python"
    },
    "accelerator": "TPU",
    "gpuClass": "standard"
  },
  "cells": [
    {
      "cell_type": "markdown",
      "metadata": {
        "id": "view-in-github",
        "colab_type": "text"
      },
      "source": [
        "<a href=\"https://colab.research.google.com/github/ebagdasa/federated_homework/blob/master/hw4_lm_problem.ipynb\" target=\"_parent\"><img src=\"https://colab.research.google.com/assets/colab-badge.svg\" alt=\"Open In Colab\"/></a>"
      ]
    },
    {
      "cell_type": "markdown",
      "source": [
        "Explore prompting language models to autocomplete texts.\n",
        "\n",
        "**Use GPU runtime for faster results**"
      ],
      "metadata": {
        "id": "BydR6opFKmZu"
      }
    },
    {
      "cell_type": "code",
      "execution_count": 1,
      "metadata": {
        "colab": {
          "base_uri": "https://localhost:8080/"
        },
        "id": "VivmPVqiYVHv",
        "outputId": "d268d1bb-d695-43d9-aac9-0d802b79f2dc"
      },
      "outputs": [
        {
          "output_type": "stream",
          "name": "stdout",
          "text": [
            "Looking in indexes: https://pypi.org/simple, https://us-python.pkg.dev/colab-wheels/public/simple/\n",
            "Collecting transformers\n",
            "  Downloading transformers-4.28.1-py3-none-any.whl (7.0 MB)\n",
            "\u001b[2K     \u001b[90m━━━━━━━━━━━━━━━━━━━━━━━━━━━━━━━━━━━━━━━━\u001b[0m \u001b[32m7.0/7.0 MB\u001b[0m \u001b[31m27.5 MB/s\u001b[0m eta \u001b[36m0:00:00\u001b[0m\n",
            "\u001b[?25hRequirement already satisfied: filelock in /usr/local/lib/python3.9/dist-packages (from transformers) (3.12.0)\n",
            "Requirement already satisfied: tqdm>=4.27 in /usr/local/lib/python3.9/dist-packages (from transformers) (4.65.0)\n",
            "Requirement already satisfied: regex!=2019.12.17 in /usr/local/lib/python3.9/dist-packages (from transformers) (2022.10.31)\n",
            "Requirement already satisfied: numpy>=1.17 in /usr/local/lib/python3.9/dist-packages (from transformers) (1.24.3)\n",
            "Requirement already satisfied: packaging>=20.0 in /usr/local/lib/python3.9/dist-packages (from transformers) (23.1)\n",
            "Collecting tokenizers!=0.11.3,<0.14,>=0.11.1\n",
            "  Downloading tokenizers-0.13.3-cp39-cp39-manylinux_2_17_x86_64.manylinux2014_x86_64.whl (7.8 MB)\n",
            "\u001b[2K     \u001b[90m━━━━━━━━━━━━━━━━━━━━━━━━━━━━━━━━━━━━━━━━\u001b[0m \u001b[32m7.8/7.8 MB\u001b[0m \u001b[31m28.2 MB/s\u001b[0m eta \u001b[36m0:00:00\u001b[0m\n",
            "\u001b[?25hRequirement already satisfied: requests in /usr/local/lib/python3.9/dist-packages (from transformers) (2.27.1)\n",
            "Collecting huggingface-hub<1.0,>=0.11.0\n",
            "  Downloading huggingface_hub-0.14.1-py3-none-any.whl (224 kB)\n",
            "\u001b[2K     \u001b[90m━━━━━━━━━━━━━━━━━━━━━━━━━━━━━━━━━━━━━━\u001b[0m \u001b[32m224.5/224.5 kB\u001b[0m \u001b[31m13.0 MB/s\u001b[0m eta \u001b[36m0:00:00\u001b[0m\n",
            "\u001b[?25hRequirement already satisfied: pyyaml>=5.1 in /usr/local/lib/python3.9/dist-packages (from transformers) (6.0)\n",
            "Requirement already satisfied: typing-extensions>=3.7.4.3 in /usr/local/lib/python3.9/dist-packages (from huggingface-hub<1.0,>=0.11.0->transformers) (4.5.0)\n",
            "Requirement already satisfied: fsspec in /usr/local/lib/python3.9/dist-packages (from huggingface-hub<1.0,>=0.11.0->transformers) (2023.4.0)\n",
            "Requirement already satisfied: certifi>=2017.4.17 in /usr/local/lib/python3.9/dist-packages (from requests->transformers) (2022.12.7)\n",
            "Requirement already satisfied: charset-normalizer~=2.0.0 in /usr/local/lib/python3.9/dist-packages (from requests->transformers) (2.0.12)\n",
            "Requirement already satisfied: idna<4,>=2.5 in /usr/local/lib/python3.9/dist-packages (from requests->transformers) (3.4)\n",
            "Requirement already satisfied: urllib3<1.27,>=1.21.1 in /usr/local/lib/python3.9/dist-packages (from requests->transformers) (1.26.15)\n",
            "Installing collected packages: tokenizers, huggingface-hub, transformers\n",
            "Successfully installed huggingface-hub-0.14.1 tokenizers-0.13.3 transformers-4.28.1\n"
          ]
        }
      ],
      "source": [
        "!pip install transformers"
      ]
    },
    {
      "cell_type": "code",
      "source": [
        "from transformers import pipeline, set_seed\n",
        "generator = pipeline('text-generation', model='gpt2')"
      ],
      "metadata": {
        "id": "BLjuJn0eYxVY"
      },
      "execution_count": 3,
      "outputs": []
    },
    {
      "cell_type": "code",
      "source": [
        "generator(\"East Stroudsburg Stroudsburg \", \n",
        "          max_length=50,\n",
        "                do_sample=True, \n",
        "                top_k=40, \n",
        "                top_p=1.0,\n",
        "                num_return_sequences=10, \n",
        "                \n",
        "          )\n"
      ],
      "metadata": {
        "colab": {
          "base_uri": "https://localhost:8080/"
        },
        "id": "PWnv-huJZ0gB",
        "outputId": "f5e2430b-7aa0-4bf1-c70f-e51203503dda"
      },
      "execution_count": 4,
      "outputs": [
        {
          "output_type": "stream",
          "name": "stderr",
          "text": [
            "/usr/local/lib/python3.9/dist-packages/transformers/generation/utils.py:1219: UserWarning: You have modified the pretrained model configuration to control generation. This is a deprecated strategy to control generation and will be removed soon, in a future version. Please use a generation configuration file (see https://huggingface.co/docs/transformers/main_classes/text_generation)\n",
            "  warnings.warn(\n",
            "Setting `pad_token_id` to `eos_token_id`:50256 for open-end generation.\n"
          ]
        },
        {
          "output_type": "execute_result",
          "data": {
            "text/plain": [
              "[{'generated_text': 'East Stroudsburg Stroudsburg \\xa0- Columbia Stroudsburg St Veganist St Francis (PA) St Francis (PA) St Pauls (NE) Truman Stoker Stoker Keeps & Students St Paulouth (MN) Stay St'},\n",
              " {'generated_text': 'East Stroudsburg Stroudsburg \\xa0as the US Army rolled into Charlottesville on Saturday, April 24, 2016. US President Donald Trump and First Lady Melania Trump wave as they arrive at Marine One at Marine One Regional Airport in Frederick, Maryland.'},\n",
              " {'generated_text': 'East Stroudsburg Stroudsburg \\xa0- A Stroudsburg.edu.au/pennsylvania-history\\n\\nA number of authors were featured in the article on the subject:\\n\\nThe Pennsylvania Historical Society\\n\\nA post shared'},\n",
              " {'generated_text': \"East Stroudsburg Stroudsburg \\xa0(Charlottesville) St Paulsburg Strom Thurmond Stubbins Stupor - Stupford Sun Devil's Day Styx City Stony Brook Tampa Bay Area Tampa Bay - Tampa Bay Rays\"},\n",
              " {'generated_text': 'East Stroudsburg Stroudsburg __________ Crop : Farm Country Corn : Grain Corners : Corners Cornets : Corners Cornets : Cornets Cornets : Cornets Cornets: Cornets Cornets: Cornets Cornets'},\n",
              " {'generated_text': 'East Stroudsburg Stroudsburg ʳ Deep Ellum Stroudsburg Terrace Stoke Stoke My, Boston My, Detroit My, San Antonio My, St. Louis My, Wichita My, St. Petersburg My, St. Petersburg'},\n",
              " {'generated_text': 'East Stroudsburg Stroudsburg urn \"Sanctuary of the Petals\" SPCA San Antonio St. Carteret Sutherland ST Stephens-Brock ST Stephens & Sons Steele Sperry Taurus Telesight Technologies Telmark Tipt'},\n",
              " {'generated_text': 'East Stroudsburg Stroudsburg urn Stroudsburg And Wolf St Pauls St Peters Stanford Stanford & Alcorn St Peters Stormont Stony Brook Syracuse Tarleton State TCU Temple Tennessee Tennessee State Tennessee Tech UT-Chattanooga Tennessee-Martin'},\n",
              " {'generated_text': 'East Stroudsburg Stroudsburg __________'},\n",
              " {'generated_text': 'East Stroudsburg Stroudsburg \\xa0- The Woodlands Sports Village \\xa0- The Waldorf-Astoria Park \\xa0- Ypres Stadium \\xa0- Park Avenue \\xa0- Green Bay Packers Park (S.W. Washington Park'}]"
            ]
          },
          "metadata": {},
          "execution_count": 4
        }
      ]
    },
    {
      "cell_type": "code",
      "source": [],
      "metadata": {
        "id": "o9aXQLydYq0f"
      },
      "execution_count": null,
      "outputs": []
    }
  ]
}